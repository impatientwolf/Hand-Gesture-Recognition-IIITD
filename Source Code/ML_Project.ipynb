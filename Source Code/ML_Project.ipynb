{
  "nbformat": 4,
  "nbformat_minor": 0,
  "metadata": {
    "colab": {
      "name": "ML_Project.ipynb",
      "provenance": []
    },
    "kernelspec": {
      "name": "python3",
      "display_name": "Python 3"
    },
    "language_info": {
      "name": "python"
    }
  },
  "cells": [
    {
      "cell_type": "code",
      "metadata": {
        "id": "c48B74twz15e"
      },
      "source": [
        "!unzip /content/drive/MyDrive/ML_data/archive.zip -d /content/drive/MyDrive/ML_data/"
      ],
      "execution_count": null,
      "outputs": []
    },
    {
      "cell_type": "code",
      "metadata": {
        "id": "Xpkw_rvvzLya"
      },
      "source": [
        "from google.colab import drive\n",
        "drive.mount('/content/drive')"
      ],
      "execution_count": null,
      "outputs": []
    },
    {
      "cell_type": "code",
      "metadata": {
        "id": "fAXVBlJ3Gjp7"
      },
      "source": [
        ""
      ],
      "execution_count": null,
      "outputs": []
    },
    {
      "cell_type": "markdown",
      "metadata": {
        "id": "CunLSgexGj0m"
      },
      "source": [
        "# preprocessing and data visualization"
      ]
    },
    {
      "cell_type": "code",
      "metadata": {
        "id": "JzeMA_QpiKMY"
      },
      "source": [
        "!unzip /content/archive.zip"
      ],
      "execution_count": null,
      "outputs": []
    },
    {
      "cell_type": "code",
      "metadata": {
        "id": "Ztrhj1V-rkd4"
      },
      "source": [
        "import matplotlib.pyplot as plt\n",
        "from matplotlib.pyplot import imread\n",
        "import os\n",
        "import numpy as np\n",
        "\n",
        "# data loading things\n",
        "folders = [\"Blank\", \"Fist\", \"Five\", \"ThumbsUp\", \"Two\", \"Yo\"]\n",
        "folders_2=[\"call_me\",\"fingers_crossed\",\"okay\",\"paper\",\"peace\",\"rock\",\"rock_on\",\"scissor\",\"thumbs\",\"up\"]\n",
        "\n",
        "common_path = r'/content/'\n",
        "common_path_2 = r'/content/HandGesture/images/'\n",
        "\n",
        "\n",
        "def im_load(path):\n",
        "    d = imread(path)\n",
        "    return d\n",
        "\n",
        "\n",
        "def load_data():\n",
        "    X = []\n",
        "    Y = []\n",
        "    for i in range(0, len(folders_2)):\n",
        "        curr_path = common_path_2 + folders_2[i]\n",
        "        list_img = sorted(os.listdir(curr_path))\n",
        "        print(len(list_img))\n",
        "        for img_name in list_img:\n",
        "            X.append(im_load(curr_path + r\"/\" + img_name))\n",
        "            Y.append(i)\n",
        "\n",
        "    X = np.asarray(X, dtype='float32')\n",
        "    Y = np.asarray(Y, dtype='float32')\n",
        "    return X, Y\n",
        "\n",
        "\n",
        "# data loading things ends\n",
        "\n",
        "\n",
        "# plotings---------\n",
        "\n",
        "def plot_img(img, cmap='gray'):\n",
        "    plt.imshow(img, cmap=cmap)\n",
        "    plt.show()\n",
        "\n",
        "\n",
        "def plot_img_path(path, cmap='gray'):\n",
        "    plt.imshow(im_load(path), cmap=cmap)\n",
        "    plt.show()\n",
        "\n",
        "# ploting ends"
      ],
      "execution_count": null,
      "outputs": []
    },
    {
      "cell_type": "code",
      "metadata": {
        "colab": {
          "base_uri": "https://localhost:8080/"
        },
        "id": "ugFJSm0br0cL",
        "outputId": "2fbb1c98-afa6-45a7-931a-0286de6b94ce"
      },
      "source": [
        "X, Y = load_data()"
      ],
      "execution_count": null,
      "outputs": [
        {
          "output_type": "stream",
          "name": "stdout",
          "text": [
            "527\n",
            "504\n",
            "540\n",
            "539\n",
            "526\n",
            "508\n",
            "531\n",
            "527\n",
            "537\n",
            "504\n"
          ]
        }
      ]
    },
    {
      "cell_type": "code",
      "metadata": {
        "colab": {
          "base_uri": "https://localhost:8080/"
        },
        "id": "ou1DE76bt2-O",
        "outputId": "27bd0830-2185-4189-d9ab-406b1db681b9"
      },
      "source": [
        "print(X.shape)\n",
        "print(Y.shape)"
      ],
      "execution_count": null,
      "outputs": [
        {
          "output_type": "stream",
          "name": "stdout",
          "text": [
            "(5243, 195, 240)\n",
            "(5243,)\n"
          ]
        }
      ]
    },
    {
      "cell_type": "code",
      "metadata": {
        "id": "46cficmf0T2m"
      },
      "source": [
        "def give_array(y):\n",
        "  count=[]\n",
        "  for  i in range(0,len(folders_2)):\n",
        "    temp=0\n",
        "    for j in y:\n",
        "      if(j==i):\n",
        "        temp=temp+1;\n",
        "    count.append(temp)\n",
        "  return count\n"
      ],
      "execution_count": null,
      "outputs": []
    },
    {
      "cell_type": "code",
      "metadata": {
        "colab": {
          "base_uri": "https://localhost:8080/"
        },
        "id": "VG-EL-3A0T5-",
        "outputId": "72baf3f3-adb7-4566-a59d-ef7ddd6589dd"
      },
      "source": [
        "counts=give_array(Y)\n",
        "print(counts)"
      ],
      "execution_count": null,
      "outputs": [
        {
          "output_type": "stream",
          "name": "stdout",
          "text": [
            "[527, 504, 540, 539, 526, 508, 531, 527, 537, 504]\n"
          ]
        }
      ]
    },
    {
      "cell_type": "code",
      "metadata": {
        "id": "fGE1_IFo1VFY"
      },
      "source": [
        "# bargraph\n",
        "\n",
        "import numpy as np\n",
        "import matplotlib.pyplot as plt\n",
        "\n",
        "\n"
      ],
      "execution_count": null,
      "outputs": []
    },
    {
      "cell_type": "code",
      "metadata": {
        "colab": {
          "base_uri": "https://localhost:8080/",
          "height": 429
        },
        "id": "ssn4Ly1N1VIv",
        "outputId": "faf6be98-2a66-4729-be24-07bccf8c911a"
      },
      "source": [
        "fig = plt.figure(figsize =(12, 7))\n",
        "plt.bar( folders_2,counts,width = 0.5)\n",
        "plt.show()"
      ],
      "execution_count": null,
      "outputs": [
        {
          "output_type": "display_data",
          "data": {
            "image/png": "[encoded data removed]",
            "text/plain": [
              "<Figure size 864x504 with 1 Axes>"
            ]
          },
          "metadata": {
            "needs_background": "light"
          }
        }
      ]
    },
    {
      "cell_type": "code",
      "metadata": {
        "colab": {
          "base_uri": "https://localhost:8080/",
          "height": 594
        },
        "id": "Yi2pzr2s3J6g",
        "outputId": "523339a8-ba81-413c-8faf-235c0593f626"
      },
      "source": [
        "fig = plt.figure(figsize=(10, 7))\n",
        "rows= 10\n",
        "col=3\n",
        "p=1\n",
        "for i in range(0, len(folders_2)):\n",
        "  print(folders_2[i])\n",
        "  curr_path = common_path_2 + folders_2[i]\n",
        "  list_img = sorted(os.listdir(curr_path))\n",
        "  #print(len(list_img))\n",
        "  for img_name in list_img[0:3]:\n",
        "    fig.add_subplot(rows, col, p)\n",
        "    plt.imshow(im_load(curr_path + r\"/\" + img_name))\n",
        "    plt.axis('off')\n",
        "    ##plt.title(folders_2[i])\n",
        "    p=p+1"
      ],
      "execution_count": null,
      "outputs": [
        {
          "output_type": "stream",
          "name": "stdout",
          "text": [
            "call_me\n",
            "fingers_crossed\n",
            "okay\n",
            "paper\n",
            "peace\n",
            "rock\n",
            "rock_on\n",
            "scissor\n",
            "thumbs\n",
            "up\n"
          ]
        },
        {
          "output_type": "display_data",
          "data": {
            "image/png": "[encoded data removed]",
            "text/plain": [
              "<Figure size 720x504 with 30 Axes>"
            ]
          },
          "metadata": {
            "needs_background": "light"
          }
        }
      ]
    },
    {
      "cell_type": "code",
      "metadata": {
        "colab": {
          "base_uri": "https://localhost:8080/",
          "height": 258
        },
        "id": "M2EMVceF3J85",
        "outputId": "98a97d45-0639-4745-b035-a065366550bc"
      },
      "source": [
        "percentage=[]\n",
        "total=0\n",
        "for i in counts:\n",
        "  total=total+i\n",
        "for i in counts:\n",
        "  percentage.append(float(i)*100/float(total))\n",
        "\n",
        "#print(percentage)\n",
        "plt.pie(percentage,labels=folders_2,autopct='%.2f')\n",
        "plt.axis(\"equal\")\n",
        "plt.show()"
      ],
      "execution_count": null,
      "outputs": [
        {
          "output_type": "display_data",
          "data": {
            "image/png": "[encoded data removed]",
            "text/plain": [
              "<Figure size 432x288 with 1 Axes>"
            ]
          },
          "metadata": {}
        }
      ]
    },
    {
      "cell_type": "code",
      "metadata": {
        "id": "jp7O-RhrQK6L"
      },
      "source": [
        "# flatterning the data\n",
        "X_2=[]\n",
        "for i in X:\n",
        "  temp=i.reshape(195*240,)\n",
        "  X_2.append(temp)\n"
      ],
      "execution_count": null,
      "outputs": []
    },
    {
      "cell_type": "code",
      "metadata": {
        "id": "E2uN18f2TPDe"
      },
      "source": [
        "# resaving in x (can change also)\n",
        "X = np.asarray(X_2, dtype='float32')"
      ],
      "execution_count": null,
      "outputs": []
    },
    {
      "cell_type": "code",
      "metadata": {
        "colab": {
          "base_uri": "https://localhost:8080/"
        },
        "id": "Fvmzl67eTPFp",
        "outputId": "ccf2976c-5626-4f8a-9013-8087bf594445"
      },
      "source": [
        "print(X.shape)\n",
        "print(Y.shape)"
      ],
      "execution_count": null,
      "outputs": [
        {
          "output_type": "stream",
          "name": "stdout",
          "text": [
            "(5243, 46800)\n",
            "(5243,)\n"
          ]
        }
      ]
    },
    {
      "cell_type": "code",
      "metadata": {
        "id": "2coADvqdHUo7"
      },
      "source": [
        ""
      ],
      "execution_count": null,
      "outputs": []
    },
    {
      "cell_type": "markdown",
      "metadata": {
        "id": "HyqmSIcKHU8L"
      },
      "source": [
        "# testing out different algorithms without applying PCA"
      ]
    },
    {
      "cell_type": "code",
      "metadata": {
        "id": "LnmTS5Bzi0Fh"
      },
      "source": [
        "from sklearn.metrics import accuracy_score\n",
        "from sklearn.metrics import confusion_matrix\n",
        "def metric(y_pred,y):\n",
        "    acc=accuracy_score(y, y_pred)\n",
        "    print(\"accuracy:-\" ,acc*100,\"%\")\n",
        "    cm=confusion_matrix(y,y_pred)\n",
        "    print(\"confusion matrix:- \")\n",
        "    print(cm)\n",
        "    cm = cm.astype('float') / cm.sum(axis=1)[:, np.newaxis]\n",
        "    print(\"class wise accuracy:- \",cm.diagonal()*100)\n"
      ],
      "execution_count": null,
      "outputs": []
    },
    {
      "cell_type": "code",
      "metadata": {
        "colab": {
          "base_uri": "https://localhost:8080/"
        },
        "id": "zrDTXUM3MZgJ",
        "outputId": "1c7acd27-c4c5-4e4f-aa84-324244c01bca"
      },
      "source": [
        "print(X.shape)\n",
        "print(Y.shape)"
      ],
      "execution_count": null,
      "outputs": [
        {
          "output_type": "stream",
          "name": "stdout",
          "text": [
            "(5243, 46800)\n",
            "(5243,)\n"
          ]
        }
      ]
    },
    {
      "cell_type": "code",
      "metadata": {
        "id": "r0qqZHl8TPJK"
      },
      "source": [
        "from sklearn.model_selection import train_test_split\n",
        "# splitting data into 70:30\n",
        "x_train, x_test, y_train, y_test = train_test_split(X, Y, test_size=0.33, random_state=56)\n"
      ],
      "execution_count": null,
      "outputs": []
    },
    {
      "cell_type": "code",
      "metadata": {
        "id": "DVsj-yFVVY4U"
      },
      "source": [
        "x_train=x_train.reshape(3512, 46800)\n",
        "x_test=x_test.reshape(1731, 46800)"
      ],
      "execution_count": null,
      "outputs": []
    },
    {
      "cell_type": "code",
      "metadata": {
        "colab": {
          "base_uri": "https://localhost:8080/"
        },
        "id": "BcV9mwF5UOvx",
        "outputId": "25870ff8-bb82-4268-bc9e-44bdf260fa5c"
      },
      "source": [
        "print(x_train.shape)\n",
        "print(y_train.shape)\n",
        "print(x_test.shape)\n",
        "print(y_test.shape)"
      ],
      "execution_count": null,
      "outputs": [
        {
          "output_type": "stream",
          "name": "stdout",
          "text": [
            "(3512, 46800)\n",
            "(3512,)\n",
            "(1731, 46800)\n",
            "(1731,)\n"
          ]
        }
      ]
    },
    {
      "cell_type": "code",
      "metadata": {
        "colab": {
          "base_uri": "https://localhost:8080/"
        },
        "id": "zWNNxdozUOx1",
        "outputId": "5b23b203-7590-4d04-ef96-e7dbe511ff18"
      },
      "source": [
        "# decission tree\n",
        "from sklearn.tree import DecisionTreeClassifier\n",
        "clf = DecisionTreeClassifier(max_depth =20000, random_state = 42)\n",
        "clf.fit(x_train, y_train)"
      ],
      "execution_count": null,
      "outputs": [
        {
          "output_type": "execute_result",
          "data": {
            "text/plain": [
              "DecisionTreeClassifier(max_depth=20000, random_state=42)"
            ]
          },
          "metadata": {},
          "execution_count": 26
        }
      ]
    },
    {
      "cell_type": "code",
      "metadata": {
        "colab": {
          "base_uri": "https://localhost:8080/"
        },
        "id": "Woz0KLQ_UO1j",
        "outputId": "e5a923e1-76f7-4fdd-ccdd-c2fed5953f69"
      },
      "source": [
        "test_pred_decision_tree = clf.predict(x_test)\n",
        "metric(test_pred_decision_tree,y_test)"
      ],
      "execution_count": null,
      "outputs": [
        {
          "output_type": "stream",
          "name": "stdout",
          "text": [
            "accuracy:- 62.333911034084345 %\n",
            "confusion matrix:- \n",
            "[[132   0   8   1   1   3   2   3  20   2]\n",
            " [  0  99   3   3  27   6  11  11   3   7]\n",
            " [  9  10  75  23   8  20   9   3   3  10]\n",
            " [  4   9  25  55  22  15  10  14   2  17]\n",
            " [  1  16   3  12 103   6  10  10   0   4]\n",
            " [  3   5  10   5   8 109   3   6   7   5]\n",
            " [  4  12   6   4  14   9 119   1   1   3]\n",
            " [  9  14   5  16  17   2   2 101   7   6]\n",
            " [ 17   7   3   1   0   1   0   6 170   0]\n",
            " [  0  16   1  11   8   7   1   2   1 116]]\n",
            "class wise accuracy:-  [76.74418605 58.23529412 44.11764706 31.79190751 62.42424242 67.70186335\n",
            " 68.78612717 56.42458101 82.92682927 71.16564417]\n"
          ]
        }
      ]
    },
    {
      "cell_type": "code",
      "metadata": {
        "id": "dzFpNurkkFFv"
      },
      "source": [
        "from sklearn.ensemble import RandomForestRegressor\n",
        "rf = RandomForestRegressor(n_estimators = 50, random_state = 42)\n",
        "rf.fit(x_train, y_train)\n",
        "pred = rf.predict(x_test)"
      ],
      "execution_count": null,
      "outputs": []
    },
    {
      "cell_type": "code",
      "metadata": {
        "colab": {
          "base_uri": "https://localhost:8080/"
        },
        "id": "3W6NbJpIMkX-",
        "outputId": "77cc9896-2c2c-4b06-97e7-9b022d21bd65"
      },
      "source": [
        "y_pred=[]\n",
        "import numpy as np\n",
        "for i in pred:\n",
        "  index = np.argmax(i)\n",
        "  y_pred.append(index)\n",
        "metric(y_pred,y_test)"
      ],
      "execution_count": null,
      "outputs": [
        {
          "output_type": "stream",
          "name": "stdout",
          "text": [
            "accuracy:- 9.936452917388792 %\n",
            "confusion matrix:- \n",
            "[[172   0   0   0   0   0   0   0   0   0]\n",
            " [170   0   0   0   0   0   0   0   0   0]\n",
            " [170   0   0   0   0   0   0   0   0   0]\n",
            " [173   0   0   0   0   0   0   0   0   0]\n",
            " [165   0   0   0   0   0   0   0   0   0]\n",
            " [161   0   0   0   0   0   0   0   0   0]\n",
            " [173   0   0   0   0   0   0   0   0   0]\n",
            " [179   0   0   0   0   0   0   0   0   0]\n",
            " [205   0   0   0   0   0   0   0   0   0]\n",
            " [163   0   0   0   0   0   0   0   0   0]]\n",
            "class wise accuracy:-  [100.   0.   0.   0.   0.   0.   0.   0.   0.   0.]\n"
          ]
        }
      ]
    },
    {
      "cell_type": "code",
      "metadata": {
        "colab": {
          "base_uri": "https://localhost:8080/"
        },
        "id": "mNzM390CNdjY",
        "outputId": "18f5d0ab-1c26-46eb-ca7b-588a9d980faf"
      },
      "source": [
        "# gaussian classifire\n",
        "from sklearn.naive_bayes import GaussianNB\n",
        "def nave(x_train, x_test, y_train, y_test):\n",
        "  model = GaussianNB()\n",
        "  model.fit(x_train,y_train)\n",
        "  expected=y_test\n",
        "  predicted=model.predict(x_test)\n",
        "  print(f\"for the test data performance is:\")\n",
        "  metric(expected,predicted)\n",
        "nave(x_train, x_test, y_train, y_test)"
      ],
      "execution_count": null,
      "outputs": [
        {
          "output_type": "stream",
          "name": "stdout",
          "text": [
            "for the test data performance is:\n",
            "accuracy:- 32.466782206816866 %\n",
            "confusion matrix:- \n",
            "[[ 16   5   8   3   2   2   3   3   6   0]\n",
            " [  4  11   7   4   2   6   6   2   4   5]\n",
            " [  9   0  28   7   2   7   2   3   2   3]\n",
            " [  3   0   2   3   0   3   0   0   0   0]\n",
            " [  0  14   7  12  47  21  32   6   0   4]\n",
            " [  7   4  46  32   3  37   6   5   3   3]\n",
            " [  0   7   7   5   0   2  70   5   0   3]\n",
            " [ 70  44  26  58  58  38   3 150  92  30]\n",
            " [ 60  14   6   3   2  11  12   2  87   2]\n",
            " [  3  71  33  46  49  34  39   3  11 113]]\n",
            "class wise accuracy:-  [33.33333333 21.56862745 44.44444444 27.27272727 32.86713287 25.34246575\n",
            " 70.70707071 26.36203866 43.71859296 28.10945274]\n"
          ]
        }
      ]
    },
    {
      "cell_type": "code",
      "metadata": {
        "colab": {
          "base_uri": "https://localhost:8080/"
        },
        "id": "8I0NoOMDi0KK",
        "outputId": "55854f9b-7a52-4a64-bd46-884a00849433"
      },
      "source": [
        "# bagging classifire\n",
        "from sklearn.ensemble import BaggingClassifier\n",
        "def bagging(x_train, x_test, y_train, y_test):\n",
        "  model = BaggingClassifier()\n",
        "  model.fit(x_train,y_train)\n",
        "  y_pred=model.predict(x_test)\n",
        "  metric(y_pred,y_test)\n",
        "\n",
        "bagging(x_train, x_test, y_train, y_test)"
      ],
      "execution_count": null,
      "outputs": [
        {
          "output_type": "stream",
          "name": "stdout",
          "text": [
            "accuracy:- 74.63893703061814 %\n",
            "confusion matrix:- \n",
            "[[150   0   5   0   0   2   0   2  12   1]\n",
            " [  0 144   0   0   9   3   1   9   2   2]\n",
            " [  6   5 119  21   7   7   2   3   0   0]\n",
            " [  2  22  32  73  12   7   2  11   1  11]\n",
            " [  0  31   2  12 106   3   3   6   0   2]\n",
            " [  3   8   2   3   2 130   4   4   5   0]\n",
            " [  1   9   2   4   7   4 143   0   1   2]\n",
            " [ 10  21   4   8   6   4   0 120   5   1]\n",
            " [ 18   1   3   1   0   1   1   1 177   2]\n",
            " [  2  18   2   5   2   2   0   2   0 130]]\n",
            "class wise accuracy:-  [87.20930233 84.70588235 70.         42.19653179 64.24242424 80.74534161\n",
            " 82.65895954 67.03910615 86.34146341 79.75460123]\n"
          ]
        }
      ]
    },
    {
      "cell_type": "code",
      "metadata": {
        "id": "kylg2zD8Oabc"
      },
      "source": [
        "# using  SVM with two types of kernel\n",
        "from sklearn.svm import SVC\n",
        "def svm(x_train, x_test, y_train, y_test,kernel='linear'):\n",
        "  svclassifier = SVC(kernel=kernel)\n",
        "  svclassifier.fit(x_train, y_train)\n",
        "  y_pred=svclassifier.predict(x_test)\n",
        "  metric(y_pred,y_test)\n",
        "\n",
        "svm(x_train, x_test, y_train, y_test,kernel='linear')\n",
        "svm(x_train, x_test, y_train, y_test,kernel='rbf')"
      ],
      "execution_count": null,
      "outputs": []
    },
    {
      "cell_type": "code",
      "metadata": {
        "colab": {
          "base_uri": "https://localhost:8080/"
        },
        "id": "YwKS92-6i0Mm",
        "outputId": "b81e9c28-2928-4069-a962-1a2602fc4102"
      },
      "source": [
        "# using AdaBoost classifire\n",
        "from sklearn.ensemble import AdaBoostClassifier\n",
        "def ada(x_train, x_test, y_train, y_test):\n",
        "  clf = AdaBoostClassifier(n_estimators=100, random_state=0)\n",
        "  clf.fit(x_train, y_train)\n",
        "  y_pred=clf.predict(x_test)\n",
        "  metric(y_pred,y_test)\n",
        "ada(x_train, x_test, y_train, y_test)"
      ],
      "execution_count": null,
      "outputs": [
        {
          "output_type": "stream",
          "name": "stdout",
          "text": [
            "accuracy:- 21.201617562102832 %\n",
            "confusion matrix:- \n",
            "[[  5   0   4   1  15   0   0   2 145   0]\n",
            " [  0   0   0   1 155   0   0   1  13   0]\n",
            " [  1   0   4   0 141   0   0   2  22   0]\n",
            " [  1   0   0   0 169   0   0   1   2   0]\n",
            " [  0   0   0   0 164   0   0   0   1   0]\n",
            " [  2   1   0   0 139   0   0   4  15   0]\n",
            " [  1   0   0   0 171   0   0   0   1   0]\n",
            " [  1   0   5   1 130   0   0   4  38   0]\n",
            " [  1   0   6   0   5   0   0   3 190   0]\n",
            " [  0   0   0   1 159   0   0   1   2   0]]\n",
            "class wise accuracy:-  [ 2.90697674  0.          2.35294118  0.         99.39393939  0.\n",
            "  0.          2.23463687 92.68292683  0.        ]\n"
          ]
        }
      ]
    },
    {
      "cell_type": "code",
      "metadata": {
        "id": "YYeRBHhMJhC6"
      },
      "source": [
        ""
      ],
      "execution_count": null,
      "outputs": []
    },
    {
      "cell_type": "code",
      "metadata": {
        "id": "8t-daVMeJmeU"
      },
      "source": [
        ""
      ],
      "execution_count": null,
      "outputs": []
    },
    {
      "cell_type": "markdown",
      "metadata": {
        "id": "sAZVqbyKJmwG"
      },
      "source": [
        "# now using PCA and running all algorithms again"
      ]
    },
    {
      "cell_type": "code",
      "metadata": {
        "id": "PJlqDPq1LIrS",
        "colab": {
          "base_uri": "https://localhost:8080/"
        },
        "outputId": "dcc39c6a-efbc-451c-bbdf-015c717d8344"
      },
      "source": [
        "X,Y=load_data()\n",
        "# flatterning the data\n",
        "X_2=[]\n",
        "for i in X:\n",
        "  temp=i.reshape(195*240,)\n",
        "  X_2.append(temp)\n",
        "X = np.asarray(X_2, dtype='float32')\n",
        "from sklearn.model_selection import train_test_split\n",
        "from sklearn.decomposition import PCA\n",
        "n=200 # using top 20 feature vectors\n",
        "pca = PCA(n_components=n)\n",
        "principalComponents = pca.fit_transform(X)\n",
        "X = principalComponents\n",
        "print(X.shape)\n",
        "print(Y.shape)\n",
        "x_train, x_test, y_train, y_test = train_test_split(X, Y, test_size=0.33, random_state=56)\n"
      ],
      "execution_count": null,
      "outputs": [
        {
          "output_type": "stream",
          "name": "stdout",
          "text": [
            "527\n",
            "504\n",
            "540\n",
            "539\n",
            "526\n",
            "508\n",
            "531\n",
            "527\n",
            "537\n",
            "504\n",
            "(5243, 200)\n",
            "(5243,)\n"
          ]
        }
      ]
    },
    {
      "cell_type": "code",
      "metadata": {
        "colab": {
          "base_uri": "https://localhost:8080/"
        },
        "id": "StUqzQwkJ1WJ",
        "outputId": "c36c7d18-c3b1-441c-fbd3-5d719dd146e4"
      },
      "source": [
        "# decission tree\n",
        "from sklearn.tree import DecisionTreeClassifier\n",
        "clf = DecisionTreeClassifier(max_depth =20000, random_state = 42)\n",
        "clf.fit(x_train, y_train)\n",
        "test_pred_decision_tree = clf.predict(x_test)\n",
        "metric(test_pred_decision_tree,y_test)"
      ],
      "execution_count": null,
      "outputs": [
        {
          "output_type": "stream",
          "name": "stdout",
          "text": [
            "accuracy:- 58.578856152513005 %\n",
            "confusion matrix:- \n",
            "[[133   1   2   3   1   3   1   3  24   1]\n",
            " [  0 100   0   8  19   6  11  12   1  13]\n",
            " [  6   4  90  21   9  15   9   4   1  11]\n",
            " [  4  18  22  67  19   7   9   8   2  17]\n",
            " [  0  18   8  15  75   8  14  15   3   9]\n",
            " [  4   3  10   6  13 101   8   2   9   5]\n",
            " [  1   9   6   8  19   7 109   4   1   9]\n",
            " [ 13  15   0  15   7   9   6  88  17   9]\n",
            " [ 18   4   4   3   2   5   2  12 152   3]\n",
            " [  2  11  11   8   9   1  12   6   4  99]]\n",
            "class wise accuracy:-  [77.3255814  58.82352941 52.94117647 38.7283237  45.45454545 62.73291925\n",
            " 63.00578035 49.16201117 74.14634146 60.73619632]\n"
          ]
        }
      ]
    },
    {
      "cell_type": "code",
      "metadata": {
        "colab": {
          "base_uri": "https://localhost:8080/"
        },
        "id": "vRuJ8B0uJ1Y1",
        "outputId": "74eabf9d-b978-4434-e845-40c3dcc0901b"
      },
      "source": [
        "# random forest\n",
        "from sklearn.ensemble import RandomForestRegressor\n",
        "rf = RandomForestRegressor(n_estimators = 50, random_state = 42)\n",
        "rf.fit(x_train, y_train)\n",
        "pred = rf.predict(x_test)\n",
        "y_pred=[]\n",
        "import numpy as np\n",
        "for i in pred:\n",
        "  index = np.argmax(i)\n",
        "  y_pred.append(index)\n",
        "metric(y_pred,y_test)\n"
      ],
      "execution_count": null,
      "outputs": [
        {
          "output_type": "stream",
          "name": "stdout",
          "text": [
            "accuracy:- 9.936452917388792 %\n",
            "confusion matrix:- \n",
            "[[172   0   0   0   0   0   0   0   0   0]\n",
            " [170   0   0   0   0   0   0   0   0   0]\n",
            " [170   0   0   0   0   0   0   0   0   0]\n",
            " [173   0   0   0   0   0   0   0   0   0]\n",
            " [165   0   0   0   0   0   0   0   0   0]\n",
            " [161   0   0   0   0   0   0   0   0   0]\n",
            " [173   0   0   0   0   0   0   0   0   0]\n",
            " [179   0   0   0   0   0   0   0   0   0]\n",
            " [205   0   0   0   0   0   0   0   0   0]\n",
            " [163   0   0   0   0   0   0   0   0   0]]\n",
            "class wise accuracy:-  [100.   0.   0.   0.   0.   0.   0.   0.   0.   0.]\n"
          ]
        }
      ]
    },
    {
      "cell_type": "code",
      "metadata": {
        "colab": {
          "base_uri": "https://localhost:8080/"
        },
        "id": "v6Lz84rhJ1cm",
        "outputId": "1d259982-30b0-44e3-8f18-8b73a0c1fef6"
      },
      "source": [
        "# gaussian classifire\n",
        "from sklearn.naive_bayes import GaussianNB\n",
        "def nave(x_train, x_test, y_train, y_test):\n",
        "  model = GaussianNB()\n",
        "  model.fit(x_train,y_train)\n",
        "  expected=y_test\n",
        "  predicted=model.predict(x_test)\n",
        "  print(f\"for the test data performance is:\")\n",
        "  metric(expected,predicted)\n",
        "nave(x_train, x_test, y_train, y_test)"
      ],
      "execution_count": null,
      "outputs": [
        {
          "output_type": "stream",
          "name": "stdout",
          "text": [
            "for the test data performance is:\n",
            "accuracy:- 72.67475447718083 %\n",
            "confusion matrix:- \n",
            "[[135   3   1   2   0   8   1  11  13   3]\n",
            " [  0 136   0   2  35  22   8  11  14   4]\n",
            " [ 10   0 136  20   1   6   5   9   1   0]\n",
            " [  0   1  30 118   4   0   7   8   0   5]\n",
            " [  0   8   0   4 111   6   7  21   3   3]\n",
            " [  0   5   0   0   0 115   1   6  11   5]\n",
            " [  0   4   0   1  13   0 125   7   0  15]\n",
            " [ 15   4   3  23   1   1   0 101   4   6]\n",
            " [ 12   3   0   0   0   3   0   1 159   0]\n",
            " [  0   6   0   3   0   0  19   4   0 122]]\n",
            "class wise accuracy:-  [76.27118644 58.62068966 72.34042553 68.20809249 68.09815951 80.41958042\n",
            " 75.75757576 63.92405063 89.3258427  79.22077922]\n"
          ]
        }
      ]
    },
    {
      "cell_type": "code",
      "metadata": {
        "colab": {
          "base_uri": "https://localhost:8080/"
        },
        "id": "WhFClMQIQEdD",
        "outputId": "89e102cc-1aa6-4768-f14c-634cef551579"
      },
      "source": [
        "# bagging classifire\n",
        "from sklearn.ensemble import BaggingClassifier\n",
        "def bagging(x_train, x_test, y_train, y_test):\n",
        "  model = BaggingClassifier()\n",
        "  model.fit(x_train,y_train)\n",
        "  y_pred=model.predict(x_test)\n",
        "  metric(y_pred,y_test)\n",
        "\n",
        "bagging(x_train, x_test, y_train, y_test)"
      ],
      "execution_count": null,
      "outputs": [
        {
          "output_type": "stream",
          "name": "stdout",
          "text": [
            "accuracy:- 70.99942229924899 %\n",
            "confusion matrix:- \n",
            "[[152   0   3   0   1   1   0   5  10   0]\n",
            " [  0 149   3   0   7   1   2   5   0   3]\n",
            " [ 11   6 115  12   3  10   3   1   0   9]\n",
            " [  4  20  23  78  17   6   6  14   0   5]\n",
            " [  1  17   4  10 101   1   9  14   0   8]\n",
            " [  4   9   6   8   4 116   3   3   5   3]\n",
            " [  1  10   5   6  14   5 122   0   2   8]\n",
            " [  8  26   7  13   7   2   2 102   7   5]\n",
            " [ 14   0   1   0   2   4   0   6 174   4]\n",
            " [  1  17   2   9   4   0   8   1   1 120]]\n",
            "class wise accuracy:-  [88.37209302 87.64705882 67.64705882 45.0867052  61.21212121 72.04968944\n",
            " 70.52023121 56.98324022 84.87804878 73.6196319 ]\n"
          ]
        }
      ]
    },
    {
      "cell_type": "code",
      "metadata": {
        "id": "htL75OqlQEf0"
      },
      "source": [
        "# using  SVM with two types of kernel\n",
        "from sklearn.svm import SVC\n",
        "def svm(x_train, x_test, y_train, y_test,kernel='linear'):\n",
        "  svclassifier = SVC(kernel=kernel)\n",
        "  svclassifier.fit(x_train, y_train)\n",
        "  y_pred=svclassifier.predict(x_test)\n",
        "  metric(y_pred,y_test)\n",
        "\n",
        "svm(x_train, x_test, y_train, y_test,kernel='linear')\n",
        "svm(x_train, x_test, y_train, y_test,kernel='rbf')"
      ],
      "execution_count": null,
      "outputs": []
    },
    {
      "cell_type": "code",
      "metadata": {
        "colab": {
          "base_uri": "https://localhost:8080/"
        },
        "id": "RZVlBG4bQEik",
        "outputId": "69d7e939-d7df-43c5-9719-a91412594901"
      },
      "source": [
        "# using AdaBoost classifire\n",
        "from sklearn.ensemble import AdaBoostClassifier\n",
        "def ada(x_train, x_test, y_train, y_test):\n",
        "  clf = AdaBoostClassifier(n_estimators=100, random_state=0)\n",
        "  clf.fit(x_train, y_train)\n",
        "  y_pred=clf.predict(x_test)\n",
        "  metric(y_pred,y_test)\n",
        "ada(x_train, x_test, y_train, y_test)"
      ],
      "execution_count": null,
      "outputs": [
        {
          "output_type": "stream",
          "name": "stdout",
          "text": [
            "accuracy:- 35.93298671288272 %\n",
            "confusion matrix:- \n",
            "[[96  0  4  3  2 33  0  4 29  1]\n",
            " [ 2 51  5  4 28  9 20 32  7 12]\n",
            " [16  1 56 26  9 34 11  4  1 12]\n",
            " [ 2  7 28 46 17 17 18 12  0 26]\n",
            " [ 2 10  3 16 38 10 41 24  1 20]\n",
            " [12 11  6  6 12 85  9  6  3 11]\n",
            " [ 0  2  9 20 31  8 65  3  0 35]\n",
            " [18 14  5 11 12 12  6 71 18 12]\n",
            " [71 15  0  2  7 18  2  9 77  4]\n",
            " [ 0 18 14 28 16  8 29 12  1 37]]\n",
            "class wise accuracy:-  [55.81395349 30.         32.94117647 26.58959538 23.03030303 52.79503106\n",
            " 37.57225434 39.66480447 37.56097561 22.6993865 ]\n"
          ]
        }
      ]
    },
    {
      "cell_type": "code",
      "metadata": {
        "id": "isRIDGYYQElI"
      },
      "source": [
        ""
      ],
      "execution_count": null,
      "outputs": []
    },
    {
      "cell_type": "markdown",
      "metadata": {
        "id": "ISQtOECdKeDa"
      },
      "source": [
        "#  now using CNN network for image classification"
      ]
    },
    {
      "cell_type": "code",
      "metadata": {
        "colab": {
          "base_uri": "https://localhost:8080/"
        },
        "id": "7pvulugB1OFW",
        "outputId": "04b9867c-e47b-4a7a-a3a3-730c481e2243"
      },
      "source": [
        "import cv2\n",
        "X,Y=load_data()\n",
        "X_2=[]\n",
        "st=64\n",
        "for i in X:\n",
        "  temp=cv2.resize(i, (st, st)) \n",
        "  temp=temp.reshape(st,st,1)\n",
        "  X_2.append(temp)\n",
        "X = np.asarray(X_2, dtype='float32')\n",
        "#print(X.shape)\n",
        "x_train,x_test,y_train,y_test=train_test_split(X, Y, test_size=0.33, random_state=56)\n"
      ],
      "execution_count": null,
      "outputs": [
        {
          "output_type": "stream",
          "name": "stdout",
          "text": [
            "527\n",
            "504\n",
            "540\n",
            "539\n",
            "526\n",
            "508\n",
            "531\n",
            "527\n",
            "537\n",
            "504\n"
          ]
        }
      ]
    },
    {
      "cell_type": "code",
      "metadata": {
        "colab": {
          "base_uri": "https://localhost:8080/"
        },
        "id": "L2Km244M3iM7",
        "outputId": "edaf5fc3-6431-4662-bd81-7fbae14e6d05"
      },
      "source": [
        "print(x_train.shape)\n",
        "print(y_train.shape)\n",
        "print(x_test.shape)\n",
        "print(y_test.shape)"
      ],
      "execution_count": null,
      "outputs": [
        {
          "output_type": "stream",
          "name": "stdout",
          "text": [
            "(3512, 64, 64, 1)\n",
            "(3512,)\n",
            "(1731, 64, 64, 1)\n",
            "(1731,)\n"
          ]
        }
      ]
    },
    {
      "cell_type": "code",
      "metadata": {
        "colab": {
          "base_uri": "https://localhost:8080/"
        },
        "id": "R45aRl_jCL6g",
        "outputId": "9b0d50a4-2f32-48a1-8f2b-5b3b3c4855d9"
      },
      "source": [
        "import tensorflow as tf\n",
        "\n",
        "from tensorflow.keras import datasets, layers, models\n",
        "import matplotlib.pyplot as plt\n",
        "model = models.Sequential()\n",
        "model.add(layers.Conv2D(32, (3, 3), activation='relu', input_shape=(st, st, 1)))\n",
        "model.add(layers.MaxPooling2D((2, 2)))\n",
        "model.add(layers.Conv2D(64, (3, 3), activation='relu'))\n",
        "model.add(layers.MaxPooling2D((2, 2)))\n",
        "model.add(layers.Conv2D(128, (3, 3), activation='relu'))\n",
        "model.add(layers.Flatten())\n",
        "model.add(layers.Dense(64, activation='relu'))\n",
        "model.add(layers.Dense(10))\n",
        "model.summary()\n",
        "model.compile(optimizer='adam',loss=tf.keras.losses.SparseCategoricalCrossentropy(from_logits=True),metrics=['accuracy'])\n"
      ],
      "execution_count": null,
      "outputs": [
        {
          "output_type": "stream",
          "name": "stdout",
          "text": [
            "Model: \"sequential\"\n",
            "_________________________________________________________________\n",
            " Layer (type)                Output Shape              Param #   \n",
            "=================================================================\n",
            " conv2d (Conv2D)             (None, 62, 62, 32)        320       \n",
            "                                                                 \n",
            " max_pooling2d (MaxPooling2D  (None, 31, 31, 32)       0         \n",
            " )                                                               \n",
            "                                                                 \n",
            " conv2d_1 (Conv2D)           (None, 29, 29, 64)        18496     \n",
            "                                                                 \n",
            " max_pooling2d_1 (MaxPooling  (None, 14, 14, 64)       0         \n",
            " 2D)                                                             \n",
            "                                                                 \n",
            " conv2d_2 (Conv2D)           (None, 12, 12, 128)       73856     \n",
            "                                                                 \n",
            " flatten (Flatten)           (None, 18432)             0         \n",
            "                                                                 \n",
            " dense (Dense)               (None, 64)                1179712   \n",
            "                                                                 \n",
            " dense_1 (Dense)             (None, 10)                650       \n",
            "                                                                 \n",
            "=================================================================\n",
            "Total params: 1,273,034\n",
            "Trainable params: 1,273,034\n",
            "Non-trainable params: 0\n",
            "_________________________________________________________________\n"
          ]
        }
      ]
    },
    {
      "cell_type": "code",
      "metadata": {
        "colab": {
          "base_uri": "https://localhost:8080/"
        },
        "id": "7B8xkQYGCaxS",
        "outputId": "03f4c2dc-fbac-490d-b48c-754d6f6d6212"
      },
      "source": [
        "history = model.fit(x_train, y_train, epochs=40, validation_data=(x_test, y_test))"
      ],
      "execution_count": null,
      "outputs": [
        {
          "output_type": "stream",
          "name": "stdout",
          "text": [
            "Epoch 1/40\n",
            "110/110 [==============================] - 11s 19ms/step - loss: 2.4242 - accuracy: 0.5760 - val_loss: 0.5329 - val_accuracy: 0.8261\n",
            "Epoch 2/40\n",
            "110/110 [==============================] - 2s 15ms/step - loss: 0.2601 - accuracy: 0.9200 - val_loss: 0.3207 - val_accuracy: 0.8949\n",
            "Epoch 3/40\n",
            "110/110 [==============================] - 2s 15ms/step - loss: 0.1031 - accuracy: 0.9655 - val_loss: 0.2685 - val_accuracy: 0.9318\n",
            "Epoch 4/40\n",
            "110/110 [==============================] - 2s 15ms/step - loss: 0.0518 - accuracy: 0.9826 - val_loss: 0.2527 - val_accuracy: 0.9365\n",
            "Epoch 5/40\n",
            "110/110 [==============================] - 2s 15ms/step - loss: 0.0228 - accuracy: 0.9937 - val_loss: 0.2745 - val_accuracy: 0.9330\n",
            "Epoch 6/40\n",
            "110/110 [==============================] - 2s 15ms/step - loss: 0.0357 - accuracy: 0.9889 - val_loss: 0.3553 - val_accuracy: 0.9226\n",
            "Epoch 7/40\n",
            "110/110 [==============================] - 2s 15ms/step - loss: 0.0636 - accuracy: 0.9786 - val_loss: 0.3283 - val_accuracy: 0.9336\n",
            "Epoch 8/40\n",
            "110/110 [==============================] - 2s 15ms/step - loss: 0.0416 - accuracy: 0.9852 - val_loss: 0.3195 - val_accuracy: 0.9266\n",
            "Epoch 9/40\n",
            "110/110 [==============================] - 2s 15ms/step - loss: 0.0508 - accuracy: 0.9849 - val_loss: 0.4028 - val_accuracy: 0.9105\n",
            "Epoch 10/40\n",
            "110/110 [==============================] - 2s 15ms/step - loss: 0.0613 - accuracy: 0.9855 - val_loss: 0.2606 - val_accuracy: 0.9336\n",
            "Epoch 11/40\n",
            "110/110 [==============================] - 2s 15ms/step - loss: 0.0110 - accuracy: 0.9960 - val_loss: 0.2844 - val_accuracy: 0.9399\n",
            "Epoch 12/40\n",
            "110/110 [==============================] - 2s 15ms/step - loss: 0.0306 - accuracy: 0.9917 - val_loss: 0.2542 - val_accuracy: 0.9353\n",
            "Epoch 13/40\n",
            "110/110 [==============================] - 2s 15ms/step - loss: 0.0213 - accuracy: 0.9937 - val_loss: 0.3553 - val_accuracy: 0.9278\n",
            "Epoch 14/40\n",
            "110/110 [==============================] - 2s 16ms/step - loss: 0.0220 - accuracy: 0.9943 - val_loss: 0.2670 - val_accuracy: 0.9480\n",
            "Epoch 15/40\n",
            "110/110 [==============================] - 2s 15ms/step - loss: 0.0146 - accuracy: 0.9960 - val_loss: 0.3550 - val_accuracy: 0.9359\n",
            "Epoch 16/40\n",
            "110/110 [==============================] - 2s 15ms/step - loss: 0.0201 - accuracy: 0.9943 - val_loss: 0.3305 - val_accuracy: 0.9388\n",
            "Epoch 17/40\n",
            "110/110 [==============================] - 2s 16ms/step - loss: 0.0233 - accuracy: 0.9929 - val_loss: 0.4529 - val_accuracy: 0.9249\n",
            "Epoch 18/40\n",
            "110/110 [==============================] - 2s 15ms/step - loss: 0.0478 - accuracy: 0.9855 - val_loss: 0.2597 - val_accuracy: 0.9492\n",
            "Epoch 19/40\n",
            "110/110 [==============================] - 2s 16ms/step - loss: 0.0045 - accuracy: 0.9989 - val_loss: 0.2293 - val_accuracy: 0.9590\n",
            "Epoch 20/40\n",
            "110/110 [==============================] - 2s 15ms/step - loss: 3.1908e-04 - accuracy: 1.0000 - val_loss: 0.2375 - val_accuracy: 0.9584\n",
            "Epoch 21/40\n",
            "110/110 [==============================] - 2s 15ms/step - loss: 1.0878e-04 - accuracy: 1.0000 - val_loss: 0.2345 - val_accuracy: 0.9607\n",
            "Epoch 22/40\n",
            "110/110 [==============================] - 2s 15ms/step - loss: 5.6454e-05 - accuracy: 1.0000 - val_loss: 0.2357 - val_accuracy: 0.9596\n",
            "Epoch 23/40\n",
            "110/110 [==============================] - 2s 15ms/step - loss: 4.4095e-05 - accuracy: 1.0000 - val_loss: 0.2378 - val_accuracy: 0.9607\n",
            "Epoch 24/40\n",
            "110/110 [==============================] - 2s 15ms/step - loss: 3.5968e-05 - accuracy: 1.0000 - val_loss: 0.2384 - val_accuracy: 0.9596\n",
            "Epoch 25/40\n",
            "110/110 [==============================] - 2s 15ms/step - loss: 3.0410e-05 - accuracy: 1.0000 - val_loss: 0.2400 - val_accuracy: 0.9596\n",
            "Epoch 26/40\n",
            "110/110 [==============================] - 2s 15ms/step - loss: 2.5752e-05 - accuracy: 1.0000 - val_loss: 0.2418 - val_accuracy: 0.9596\n",
            "Epoch 27/40\n",
            "110/110 [==============================] - 2s 15ms/step - loss: 2.2422e-05 - accuracy: 1.0000 - val_loss: 0.2416 - val_accuracy: 0.9596\n",
            "Epoch 28/40\n",
            "110/110 [==============================] - 2s 15ms/step - loss: 2.4041e-05 - accuracy: 1.0000 - val_loss: 0.2417 - val_accuracy: 0.9601\n",
            "Epoch 29/40\n",
            "110/110 [==============================] - 2s 15ms/step - loss: 1.7717e-05 - accuracy: 1.0000 - val_loss: 0.2424 - val_accuracy: 0.9601\n",
            "Epoch 30/40\n",
            "110/110 [==============================] - 2s 16ms/step - loss: 1.5481e-05 - accuracy: 1.0000 - val_loss: 0.2438 - val_accuracy: 0.9601\n",
            "Epoch 31/40\n",
            "110/110 [==============================] - 2s 15ms/step - loss: 1.3902e-05 - accuracy: 1.0000 - val_loss: 0.2432 - val_accuracy: 0.9607\n",
            "Epoch 32/40\n",
            "110/110 [==============================] - 2s 16ms/step - loss: 1.2641e-05 - accuracy: 1.0000 - val_loss: 0.2435 - val_accuracy: 0.9607\n",
            "Epoch 33/40\n",
            "110/110 [==============================] - 2s 15ms/step - loss: 1.1544e-05 - accuracy: 1.0000 - val_loss: 0.2437 - val_accuracy: 0.9601\n",
            "Epoch 34/40\n",
            "110/110 [==============================] - 2s 16ms/step - loss: 1.0528e-05 - accuracy: 1.0000 - val_loss: 0.2435 - val_accuracy: 0.9601\n",
            "Epoch 35/40\n",
            "110/110 [==============================] - 2s 15ms/step - loss: 9.6148e-06 - accuracy: 1.0000 - val_loss: 0.2433 - val_accuracy: 0.9601\n",
            "Epoch 36/40\n",
            "110/110 [==============================] - 2s 15ms/step - loss: 8.7439e-06 - accuracy: 1.0000 - val_loss: 0.2422 - val_accuracy: 0.9596\n",
            "Epoch 37/40\n",
            "110/110 [==============================] - 2s 16ms/step - loss: 8.0500e-06 - accuracy: 1.0000 - val_loss: 0.2426 - val_accuracy: 0.9596\n",
            "Epoch 38/40\n",
            "110/110 [==============================] - 2s 15ms/step - loss: 6.9849e-06 - accuracy: 1.0000 - val_loss: 0.2423 - val_accuracy: 0.9584\n",
            "Epoch 39/40\n",
            "110/110 [==============================] - 2s 15ms/step - loss: 6.4096e-06 - accuracy: 1.0000 - val_loss: 0.2427 - val_accuracy: 0.9584\n",
            "Epoch 40/40\n",
            "110/110 [==============================] - 2s 15ms/step - loss: 5.9499e-06 - accuracy: 1.0000 - val_loss: 0.2429 - val_accuracy: 0.9584\n"
          ]
        }
      ]
    },
    {
      "cell_type": "code",
      "metadata": {
        "colab": {
          "base_uri": "https://localhost:8080/",
          "height": 280
        },
        "id": "4XFoiBIIi0Vz",
        "outputId": "8e7d2f70-d90b-4572-bf69-bfa2d907628b"
      },
      "source": [
        "import matplotlib.pyplot as plt\n",
        "training_loss = history.history['loss']\n",
        "test_loss = history.history['val_loss']\n",
        "epoch_count = range(1, len(training_loss) + 1)\n",
        "\n",
        "# Visualize loss history\n",
        "plt.plot(epoch_count, training_loss, 'r--')\n",
        "plt.plot(epoch_count, test_loss, 'b-')\n",
        "plt.legend(['Training Loss', 'Test Loss'])\n",
        "plt.xlabel('Epoch')\n",
        "plt.ylabel('Loss')\n",
        "plt.show();"
      ],
      "execution_count": null,
      "outputs": [
        {
          "output_type": "display_data",
          "data": {
            "image/png": "[encoded data removed]",
            "text/plain": [
              "<Figure size 432x288 with 1 Axes>"
            ]
          },
          "metadata": {
            "needs_background": "light"
          }
        }
      ]
    },
    {
      "cell_type": "code",
      "metadata": {
        "colab": {
          "base_uri": "https://localhost:8080/",
          "height": 279
        },
        "id": "Xbv3D8LIi0YH",
        "outputId": "2b22cdb5-e6a4-4d50-fd64-ee8f57661f59"
      },
      "source": [
        "training_loss = history.history['accuracy']\n",
        "test_loss = history.history['val_accuracy']\n",
        "epoch_count = range(1, len(training_loss) + 1)\n",
        "\n",
        "# Visualize loss history\n",
        "plt.plot(epoch_count, training_loss, 'r--')\n",
        "plt.plot(epoch_count, test_loss, 'b-')\n",
        "plt.legend(['Training accuracy', 'Test accuracy'])\n",
        "plt.xlabel('Epoch')\n",
        "plt.ylabel('accuracy')\n",
        "plt.show();"
      ],
      "execution_count": null,
      "outputs": [
        {
          "output_type": "display_data",
          "data": {
            "image/png": "[encoded data removed]",
            "text/plain": [
              "<Figure size 432x288 with 1 Axes>"
            ]
          },
          "metadata": {
            "needs_background": "light"
          }
        }
      ]
    },
    {
      "cell_type": "code",
      "metadata": {
        "colab": {
          "base_uri": "https://localhost:8080/"
        },
        "id": "LBwtPu7oi0aM",
        "outputId": "a54993ac-bf00-4e41-ca66-7b6473dd3eac"
      },
      "source": [
        "pred=model(x_test)\n",
        "y_pred=[]\n",
        "import numpy as np\n",
        "for i in pred:\n",
        "  index = np.argmax(i)\n",
        "  y_pred.append(index)\n",
        "print(pred.shape)\n",
        "metric(y_pred,y_test)"
      ],
      "execution_count": null,
      "outputs": [
        {
          "output_type": "stream",
          "name": "stdout",
          "text": [
            "(1731, 10)\n",
            "accuracy:- 95.84055459272098 %\n",
            "confusion matrix:- \n",
            "[[167   0   1   0   0   0   0   2   2   0]\n",
            " [  0 159   0   0   5   1   1   1   3   0]\n",
            " [  0   0 163   4   0   0   0   2   0   1]\n",
            " [  0   0   2 169   0   0   0   0   0   2]\n",
            " [  0   3   0   0 154   0   1   6   0   1]\n",
            " [  0   1   0   0   1 157   0   1   1   0]\n",
            " [  0   0   0   0   1   0 172   0   0   0]\n",
            " [  0   0   1   3   8   0   5 161   0   1]\n",
            " [  3   0   0   0   0   0   0   0 202   0]\n",
            " [  1   1   0   1   0   0   1   2   2 155]]\n",
            "class wise accuracy:-  [97.09302326 93.52941176 95.88235294 97.68786127 93.33333333 97.51552795\n",
            " 99.42196532 89.94413408 98.53658537 95.09202454]\n"
          ]
        }
      ]
    },
    {
      "cell_type": "code",
      "metadata": {
        "id": "dUXNx9-BMijg"
      },
      "source": [
        ""
      ],
      "execution_count": null,
      "outputs": []
    }
  ]
}